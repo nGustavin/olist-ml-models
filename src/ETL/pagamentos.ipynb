{
 "cells": [
  {
   "cell_type": "markdown",
   "metadata": {
    "application/vnd.databricks.v1+cell": {
     "cellMetadata": {
      "byteLimit": 2048000,
      "rowLimit": 10000
     },
     "inputWidgets": {},
     "nuid": "f7517536-3098-4150-8dc8-a9764648c74d",
     "showTitle": false,
     "title": ""
    }
   },
   "source": [
    "# Variaveis Pagamento"
   ]
  },
  {
   "cell_type": "code",
   "execution_count": 0,
   "metadata": {
    "application/vnd.databricks.v1+cell": {
     "cellMetadata": {
      "byteLimit": 2048000,
      "rowLimit": 10000
     },
     "inputWidgets": {},
     "nuid": "14a4ca7d-cf6a-48d5-9fb1-b05c6b6f1998",
     "showTitle": false,
     "title": ""
    }
   },
   "outputs": [],
   "source": [
    "-- Databricks notebook source\n",
    "WITH tb_pedidos AS (\n",
    "\n",
    "  SELECT \n",
    "      DISTINCT \n",
    "      t1.idPedido,\n",
    "      t2.idVendedor\n",
    "\n",
    "  FROM silver.olist.pedido AS t1\n",
    "\n",
    "  LEFT JOIN silver.olist.item_pedido as t2\n",
    "  ON t1.idPedido = t2.idPedido\n",
    "\n",
    "  WHERE t1.dtPedido < '2018-01-01'\n",
    "  AND t1.dtPedido >= add_months('2018-01-01', -6)\n",
    "  AND idVendedor IS NOT NULL\n",
    "\n",
    "),\n",
    "\n",
    "tb_join AS (\n",
    "\n",
    "  SELECT \n",
    "        t1.idVendedor,\n",
    "        t2.*         \n",
    "\n",
    "  FROM tb_pedidos AS t1\n",
    "\n",
    "  LEFT JOIN silver.olist.pagamento_pedido AS t2\n",
    "  ON t1.idPedido = t2.idPedido\n",
    "\n",
    "),\n",
    "\n",
    "tb_group AS (\n",
    "\n",
    "  SELECT idVendedor,\n",
    "         descTipoPagamento,\n",
    "         count(distinct idPedido) as qtdePedidoMeioPagamento,\n",
    "         sum(vlPagamento) as vlPedidoMeioPagamento\n",
    "\n",
    "  FROM tb_join\n",
    "\n",
    "  GROUP BY idVendedor, descTipoPagamento\n",
    "  ORDER BY idVendedor, descTipoPagamento\n",
    "\n",
    " ), tb_summary as (\n",
    "   \n",
    "SELECT \n",
    "  idVendedor,\n",
    "\n",
    "  sum(case when descTipoPagamento='boleto' then qtdePedidoMeioPagamento else 0 end) as qtde_boleto_pedido,\n",
    "  sum(case when descTipoPagamento='credit_card' then qtdePedidoMeioPagamento else 0 end) as qtde_credit_card_pedido,\n",
    "  sum(case when descTipoPagamento='voucher' then qtdePedidoMeioPagamento else 0 end) as qtde_voucher_pedido,\n",
    "  sum(case when descTipoPagamento='debit_card' then qtdePedidoMeioPagamento else 0 end) as qtde_debit_card_pedido,\n",
    "\n",
    "  sum(case when descTipoPagamento='boleto' then vlPedidoMeioPagamento else 0 end) as valor_boleto_pedido,\n",
    "  sum(case when descTipoPagamento='credit_card' then vlPedidoMeioPagamento else 0 end) as valor_credit_card_pedido,\n",
    "  sum(case when descTipoPagamento='voucher' then vlPedidoMeioPagamento else 0 end) as valor_voucher_pedido,\n",
    "  sum(case when descTipoPagamento='debit_card' then vlPedidoMeioPagamento else 0 end) as valor_debit_card_pedido,\n",
    "  \n",
    "  sum(case when descTipoPagamento='boleto' then qtdePedidoMeioPagamento else 0 end) / sum(qtdePedidoMeioPagamento) as pct_qtd_boleto_pedido,\n",
    "  sum(case when descTipoPagamento='credit_card' then qtdePedidoMeioPagamento else 0 end) / sum(qtdePedidoMeioPagamento) as pct_qtd_credit_card_pedido,\n",
    "  sum(case when descTipoPagamento='voucher' then qtdePedidoMeioPagamento else 0 end) / sum(qtdePedidoMeioPagamento) as pct_qtd_voucher_pedido,\n",
    "  sum(case when descTipoPagamento='debit_card' then qtdePedidoMeioPagamento else 0 end) / sum(qtdePedidoMeioPagamento) as pct_qtd_debit_card_pedido,\n",
    "\n",
    "  sum(case when descTipoPagamento='boleto' then vlPedidoMeioPagamento else 0 end) / sum(vlPedidoMeioPagamento) as pct_valor_boleto_pedido,\n",
    "  sum(case when descTipoPagamento='credit_card' then vlPedidoMeioPagamento else 0 end) / sum(vlPedidoMeioPagamento) as pct_valor_credit_card_pedido,\n",
    "  sum(case when descTipoPagamento='voucher' then vlPedidoMeioPagamento else 0 end) / sum(vlPedidoMeioPagamento) as pct_valor_voucher_pedido,\n",
    "  sum(case when descTipoPagamento='debit_card' then vlPedidoMeioPagamento else 0 end) / sum(vlPedidoMeioPagamento) as pct_valor_debit_card_pedido\n",
    "\n",
    "FROM tb_group\n",
    "\n",
    "GROUP BY idVendedor\n",
    " ), tb_cartao as (\n",
    "   select \n",
    "   idVendedor, \n",
    "   avg(nrParcelas) as avgParcelas,\n",
    "   PERCENTILE(nrParcelas, 0.5) as mediaQtParcelas,\n",
    "   max(nrParcelas) as maxQtdeParcelas,\n",
    "   min(nrParcelas) as minQtdeParcelas\n",
    " from tb_join\n",
    " where descTipoPagamento = 'credit_card'\n",
    " group by idVendedor\n",
    " )\n",
    " \n",
    " select \n",
    "  '2018-01-01' as dtReference,\n",
    "  t1.*,\n",
    "  t2.avgParcelas,\n",
    "  t2.mediaQtParcelas,\n",
    "  t2.maxQtdeParcelas,\n",
    "  t2.minQtdeParcelas\n",
    "from tb_summary as t1\n",
    " LEFT JOIN tb_cartao as t2\n",
    " ON t1.idVendedor = t2.idVendedor\n"
   ]
  },
  {
   "cell_type": "markdown",
   "metadata": {
    "application/vnd.databricks.v1+cell": {
     "cellMetadata": {},
     "inputWidgets": {},
     "nuid": "0100aede-fb24-44a1-9525-afc912117512",
     "showTitle": false,
     "title": ""
    }
   },
   "source": [
    "# Variaveis cliente"
   ]
  },
  {
   "cell_type": "code",
   "execution_count": 0,
   "metadata": {
    "application/vnd.databricks.v1+cell": {
     "cellMetadata": {
      "byteLimit": 2048000,
      "rowLimit": 10000
     },
     "inputWidgets": {},
     "nuid": "4d092d1b-7c9c-460e-8cc3-65edf651c23b",
     "showTitle": false,
     "title": ""
    }
   },
   "outputs": [],
   "source": [
    "with tb_join as (\n",
    "  SELECT\n",
    "    t1.idPedido,\n",
    "    t1.idCliente,\n",
    "    t2.idVendedor,\n",
    "    t3.descUF\n",
    "  FROM\n",
    "    silver.olist.pedido AS t1\n",
    "    LEFT JOIN silver.olist.item_pedido AS t2 ON t1.idPedido = t2.idPedido\n",
    "    LEFT JOIN silver.olist.cliente as t3 on t1.idCliente = t3.idCliente\n",
    "  WHERE\n",
    "    dtPedido < '2018-01-01'\n",
    "    AND dtPedido >= add_months('2018-01-01', -6)\n",
    "    AND idVendedor IS NOT NULL\n",
    "), tb_group as (\n",
    "\n",
    "select\n",
    "  idVendedor,\n",
    "  count(distinct descUF) as qtdeUFsPedidos,\n",
    "  count(distinct case when descUF = 'AC' then idPedido end) / count(distinct idPedido) as pctPedidoAC,\n",
    "  count(distinct case when descUF = 'AL' then idPedido end) / count(distinct idPedido) as pctPedidoAL,\n",
    "  count(distinct case when descUF = 'AM' then idPedido end) / count(distinct idPedido) as pctPedidoAM,\n",
    "  count(distinct case when descUF = 'AP' then idPedido end) / count(distinct idPedido) as pctPedidoAP,\n",
    "  count(distinct case when descUF = 'BA' then idPedido end) / count(distinct idPedido) as pctPedidoBA,\n",
    "  count(distinct case when descUF = 'CE' then idPedido end) / count(distinct idPedido) as pctPedidoCE,\n",
    "  count(distinct case when descUF = 'DF' then idPedido end) / count(distinct idPedido) as pctPedidoDF,\n",
    "  count(distinct case when descUF = 'ES' then idPedido end) / count(distinct idPedido) as pctPedidoES,\n",
    "  count(distinct case when descUF = 'GO' then idPedido end) / count(distinct idPedido) as pctPedidoGO,\n",
    "  count(distinct case when descUF = 'MA' then idPedido end) / count(distinct idPedido) as pctPedidoMA,\n",
    "  count(distinct case when descUF = 'MG' then idPedido end) / count(distinct idPedido) as pctPedidoMG,\n",
    "  count(distinct case when descUF = 'MS' then idPedido end) / count(distinct idPedido) as pctPedidoMS,\n",
    "  count(distinct case when descUF = 'MT' then idPedido end) / count(distinct idPedido) as pctPedidoMT,\n",
    "  count(distinct case when descUF = 'PA' then idPedido end) / count(distinct idPedido) as pctPedidoPA,\n",
    "  count(distinct case when descUF = 'PB' then idPedido end) / count(distinct idPedido) as pctPedidoPB,\n",
    "  count(distinct case when descUF = 'PE' then idPedido end) / count(distinct idPedido) as pctPedidoPE,\n",
    "  count(distinct case when descUF = 'PI' then idPedido end) / count(distinct idPedido) as pctPedidoPI,\n",
    "  count(distinct case when descUF = 'PR' then idPedido end) / count(distinct idPedido) as pctPedidoPR,\n",
    "  count(distinct case when descUF = 'RJ' then idPedido end) / count(distinct idPedido) as pctPedidoRJ,\n",
    "  count(distinct case when descUF = 'RN' then idPedido end) / count(distinct idPedido) as pctPedidoRN,\n",
    "  count(distinct case when descUF = 'RO' then idPedido end) / count(distinct idPedido) as pctPedidoRO,\n",
    "  count(distinct case when descUF = 'RR' then idPedido end) / count(distinct idPedido) as pctPedidoRR,\n",
    "  count(distinct case when descUF = 'RS' then idPedido end) / count(distinct idPedido) as pctPedidoRS,\n",
    "  count(distinct case when descUF = 'SC' then idPedido end) / count(distinct idPedido) as pctPedidoSC,\n",
    "  count(distinct case when descUF = 'SE' then idPedido end) / count(distinct idPedido) as pctPedidoSE,\n",
    "  count(distinct case when descUF = 'SP' then idPedido end) / count(distinct idPedido) as pctPedidoSP,\n",
    "  count(distinct case when descUF = 'TO' then idPedido end) / count(distinct idPedido) as pctPedidoTO\n",
    "from\n",
    "  tb_join\n",
    "group by idVendedor\n",
    ")\n",
    "select \n",
    "'2018-01-01' as dtReference,\n",
    "* from tb_group"
   ]
  },
  {
   "cell_type": "markdown",
   "metadata": {
    "application/vnd.databricks.v1+cell": {
     "cellMetadata": {},
     "inputWidgets": {},
     "nuid": "c90eb55d-fd96-47bb-a0b6-b21226bd77f8",
     "showTitle": false,
     "title": ""
    }
   },
   "source": [
    "# Variaveis de produto"
   ]
  },
  {
   "cell_type": "code",
   "execution_count": 0,
   "metadata": {
    "application/vnd.databricks.v1+cell": {
     "cellMetadata": {
      "byteLimit": 2048000,
      "rowLimit": 10000
     },
     "inputWidgets": {},
     "nuid": "11bde636-af7b-4f87-b4e5-8b2e9fe1ac47",
     "showTitle": false,
     "title": ""
    }
   },
   "outputs": [],
   "source": [
    "-- Databricks notebook source\n",
    "WITH tb_join AS (\n",
    "\n",
    "  SELECT DISTINCT\n",
    "         t2.idVendedor,\n",
    "         t3.*\n",
    "\n",
    "  FROM silver.olist.pedido AS t1\n",
    "\n",
    "  LEFT JOIN silver.olist.item_pedido AS t2\n",
    "  ON t1.idPedido = t2.idPedido\n",
    "\n",
    "  LEFT JOIN silver.olist.produto as t3\n",
    "  ON t2.idProduto = t3.idProduto\n",
    "\n",
    "  WHERE t1.dtPedido < '2018-01-01'\n",
    "  AND t1.dtPedido >= add_months('2018-01-01', -6)\n",
    "  AND t2.idVendedor IS NOT NULL\n",
    "\n",
    "),\n",
    "\n",
    "tb_summary as (\n",
    "\n",
    "  SELECT idVendedor,\n",
    "         avg(coalesce(nrFotos,0)) as avgFotos,\n",
    "         avg(vlComprimentoCm * vlAlturaCm * vlLarguraCm) as avgVolumeProduto,\n",
    "         percentile(vlComprimentoCm * vlAlturaCm * vlLarguraCm, 0.5) as medianVolumeProduto,\n",
    "         min(vlComprimentoCm * vlAlturaCm * vlLarguraCm) as minVolumeProduto,\n",
    "         max(vlComprimentoCm * vlAlturaCm * vlLarguraCm) as maxVolumeProduto,\n",
    "         \n",
    "        count(distinct case when descCategoria = 'cama_mesa_banho' then idProduto end) / count(distinct idProduto) as pctCategoriacama_mesa_banho,\n",
    "        count(distinct case when descCategoria = 'beleza_saude' then idProduto end) / count(distinct idProduto) as pctCategoriabeleza_saude,\n",
    "        count(distinct case when descCategoria = 'esporte_lazer' then idProduto end) / count(distinct idProduto) as pctCategoriaesporte_lazer,\n",
    "        count(distinct case when descCategoria = 'informatica_acessorios' then idProduto end) / count(distinct idProduto) as pctCategoriainformatica_acessorios,\n",
    "        count(distinct case when descCategoria = 'moveis_decoracao' then idProduto end) / count(distinct idProduto) as pctCategoriamoveis_decoracao,\n",
    "        count(distinct case when descCategoria = 'utilidades_domesticas' then idProduto end) / count(distinct idProduto) as pctCategoriautilidades_domesticas,\n",
    "        count(distinct case when descCategoria = 'relogios_presentes' then idProduto end) / count(distinct idProduto) as pctCategoriarelogios_presentes,\n",
    "        count(distinct case when descCategoria = 'telefonia' then idProduto end) / count(distinct idProduto) as pctCategoriatelefonia,\n",
    "        count(distinct case when descCategoria = 'automotivo' then idProduto end) / count(distinct idProduto) as pctCategoriaautomotivo,\n",
    "        count(distinct case when descCategoria = 'brinquedos' then idProduto end) / count(distinct idProduto) as pctCategoriabrinquedos,\n",
    "        count(distinct case when descCategoria = 'cool_stuff' then idProduto end) / count(distinct idProduto) as pctCategoriacool_stuff,\n",
    "        count(distinct case when descCategoria = 'ferramentas_jardim' then idProduto end) / count(distinct idProduto) as pctCategoriaferramentas_jardim,\n",
    "        count(distinct case when descCategoria = 'perfumaria' then idProduto end) / count(distinct idProduto) as pctCategoriaperfumaria,\n",
    "        count(distinct case when descCategoria = 'bebes' then idProduto end) / count(distinct idProduto) as pctCategoriabebes,\n",
    "        count(distinct case when descCategoria = 'eletronicos' then idProduto end) / count(distinct idProduto) as pctCategoriaeletronicos\n",
    "\n",
    "  FROM tb_join\n",
    "\n",
    "  GROUP BY idVendedor\n",
    "\n",
    ")\n",
    "\n",
    "SELECT '2018-01-01' AS dtReference,\n",
    "       *\n",
    "\n",
    "FROM tb_summary"
   ]
  },
  {
   "cell_type": "code",
   "execution_count": 0,
   "metadata": {
    "application/vnd.databricks.v1+cell": {
     "cellMetadata": {
      "byteLimit": 2048000,
      "rowLimit": 10000
     },
     "inputWidgets": {},
     "nuid": "4893fd53-80ee-4b08-8fdd-7581d11c3071",
     "showTitle": false,
     "title": ""
    }
   },
   "outputs": [],
   "source": [
    "SELECT\n",
    "  descCategoria\n",
    "from\n",
    "  silver.olist.item_pedido as t2\n",
    "  LEFT JOIN silver.olist.produto as t3 ON t2.idProduto = t3.idProduto\n",
    "WHERE\n",
    "  t2.idVendedor IS NOT NULL\n",
    "GROUP BY 1\n",
    "ORDER BY \n",
    "  count(descCategoria) DESC\n",
    "LIMIT 15"
   ]
  },
  {
   "cell_type": "markdown",
   "metadata": {
    "application/vnd.databricks.v1+cell": {
     "cellMetadata": {},
     "inputWidgets": {},
     "nuid": "58aa5ad6-eb86-42cc-a697-b298bdc7be37",
     "showTitle": false,
     "title": ""
    }
   },
   "source": [
    "# Variaveis Avaliacao"
   ]
  },
  {
   "cell_type": "code",
   "execution_count": 0,
   "metadata": {
    "application/vnd.databricks.v1+cell": {
     "cellMetadata": {
      "byteLimit": 2048000,
      "rowLimit": 10000
     },
     "inputWidgets": {},
     "nuid": "93872beb-b6f5-4af2-bc95-5448e5aa0de0",
     "showTitle": false,
     "title": ""
    }
   },
   "outputs": [],
   "source": [
    "WITH tb_pedido as (\n",
    "  SELECT\n",
    "    DISTINCT t1.idPedido,\n",
    "    t2.idVendedor\n",
    "  FROM\n",
    "    silver.olist.pedido AS t1\n",
    "    LEFT JOIN silver.olist.item_pedido AS t2 ON t1.idPedido = t2.idPedido\n",
    "  WHERE\n",
    "    t1.dtPedido < '2018-01-01'\n",
    "    AND t1.dtPedido >= add_months('2018-01-01', -6)\n",
    "    AND t2.idVendedor IS NOT NULL\n",
    "),\n",
    "tb_join as (\n",
    "  SELECT\n",
    "    t1.*,\n",
    "    t2.vlNota\n",
    "  FROM\n",
    "    tb_pedido t1\n",
    "    LEFT JOIN silver.olist.avaliacao_pedido t2 ON t1.idPedido = t2.idPedido\n",
    "), tb_summary as (\n",
    "\n",
    "select\n",
    "  idVendedor,\n",
    "  avg(vlNota) as avgNota,\n",
    "  percentile(vlNota, 0.5) as medianNota,\n",
    "  min(vlNota) as minNota,\n",
    "  max(vlNota) as maxNota,\n",
    "  count(vlNota) / count(idPedido) as pctAvaliacao\n",
    "from\n",
    "  tb_join\n",
    "group by 1\n",
    ")\n",
    "select '2018-01-01' as dtReference, t1.* from tb_summary as t1"
   ]
  },
  {
   "cell_type": "markdown",
   "metadata": {
    "application/vnd.databricks.v1+cell": {
     "cellMetadata": {},
     "inputWidgets": {},
     "nuid": "aead0d4f-9766-4182-bee7-d15aff453e81",
     "showTitle": false,
     "title": ""
    }
   },
   "source": [
    "# Variaveis de entrega"
   ]
  },
  {
   "cell_type": "code",
   "execution_count": 0,
   "metadata": {
    "application/vnd.databricks.v1+cell": {
     "cellMetadata": {
      "byteLimit": 2048000,
      "rowLimit": 10000
     },
     "inputWidgets": {},
     "nuid": "29c5b545-138b-4782-999d-66711b7da235",
     "showTitle": false,
     "title": ""
    }
   },
   "outputs": [],
   "source": [
    "WITH tb_pedido as (\n",
    "  SELECT\n",
    "    t1.idPedido,\n",
    "    t2.idVendedor,\n",
    "    t1.descSituacao,\n",
    "    t1.dtPedido,\n",
    "    t1.dtAprovado,\n",
    "    t1.dtEntregue,\n",
    "    t1.dtEstimativaEntrega,\n",
    "    sum(vlFrete) as totalFrete\n",
    "  FROM\n",
    "    silver.olist.pedido t1\n",
    "    LEFT JOIN silver.olist.item_pedido as t2 on t1.idPedido = t2.idPedido\n",
    "  WHERE\n",
    "    t1.dtPedido < '2018-01-01'\n",
    "    AND t1.dtPedido >= add_months('2018-01-01', -6) --     AND t2.idVendedor IS NOT NULL\n",
    "  GROUP BY\n",
    "    t1.idPedido,\n",
    "    t2.idVendedor,\n",
    "    t1.descSituacao,\n",
    "    t1.dtPedido,\n",
    "    t1.dtAprovado,\n",
    "    t1.dtEntregue,\n",
    "    t1.dtEstimativaEntrega\n",
    ")\n",
    "SELECT\n",
    "  idVendedor,\n",
    "  COUNT(\n",
    "    DISTINCT CASE\n",
    "      WHEN  DATE(coalesce(dtEntregue, '2018-01-01')) > DATE(dtEstimativaEntrega) THEN idPedido\n",
    "    END\n",
    "  ) / count(\n",
    "    distinct CASE\n",
    "      WHEN descSituacao = 'delivered' then idPedido\n",
    "    END\n",
    "  ) as pctPedidoCancelado,\n",
    "  count(distinct case when descSituacao = 'canceled' then idPedido end) / count(distinct idPedido) as pctPedidoCancelado,\n",
    "  avg(totalFrete) as avgFrete,\n",
    "  percentile(totalFrete, 0.5) medianFrete,\n",
    "  max(totalFrete) as maxFrete,\n",
    "  min(totalFrete) as minFrete,\n",
    "  avg(datediff(coalesce(dtEntregue, '2018-01-01'), dtAprovado)) as qtdDiasAprovadoEngrega,\n",
    "  avg(datediff(coalesce(dtEntregue, '2018-01-01'), dtPedido)) as qtdDiasAprovadoEngrega,\n",
    "  avg(datediff(coalesce(dtEntregue, '2018-01-01'), dtEstimativaEntrega)) as qtdeDiasEntregaPromessa\n",
    "FROM\n",
    "  tb_pedido\n",
    "group by\n",
    "  1"
   ]
  },
  {
   "cell_type": "code",
   "execution_count": 0,
   "metadata": {
    "application/vnd.databricks.v1+cell": {
     "cellMetadata": {},
     "inputWidgets": {},
     "nuid": "7f0b24d7-9751-46e8-baf0-19a8524224ea",
     "showTitle": false,
     "title": ""
    }
   },
   "outputs": [],
   "source": []
  }
 ],
 "metadata": {
  "application/vnd.databricks.v1+notebook": {
   "dashboards": [],
   "language": "sql",
   "notebookMetadata": {
    "pythonIndentUnit": 4
   },
   "notebookName": "pagamentos",
   "notebookOrigID": 1189639185656892,
   "widgets": {}
  }
 },
 "nbformat": 4,
 "nbformat_minor": 0
}
