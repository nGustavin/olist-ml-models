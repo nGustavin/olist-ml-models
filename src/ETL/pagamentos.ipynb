{
 "cells": [
  {
   "cell_type": "markdown",
   "metadata": {
    "application/vnd.databricks.v1+cell": {
     "cellMetadata": {
      "byteLimit": 2048000,
      "rowLimit": 10000
     },
     "inputWidgets": {},
     "nuid": "f7517536-3098-4150-8dc8-a9764648c74d",
     "showTitle": false,
     "title": ""
    }
   },
   "source": [
    "# Variaveis Pagamento"
   ]
  },
  {
   "cell_type": "code",
   "execution_count": 0,
   "metadata": {
    "application/vnd.databricks.v1+cell": {
     "cellMetadata": {
      "byteLimit": 2048000,
      "rowLimit": 10000
     },
     "inputWidgets": {},
     "nuid": "14a4ca7d-cf6a-48d5-9fb1-b05c6b6f1998",
     "showTitle": false,
     "title": ""
    }
   },
   "outputs": [],
   "source": [
    "-- Databricks notebook source\n",
    "WITH tb_pedidos AS (\n",
    "\n",
    "  SELECT \n",
    "      DISTINCT \n",
    "      t1.idPedido,\n",
    "      t2.idVendedor\n",
    "\n",
    "  FROM silver.olist.pedido AS t1\n",
    "\n",
    "  LEFT JOIN silver.olist.item_pedido as t2\n",
    "  ON t1.idPedido = t2.idPedido\n",
    "\n",
    "  WHERE t1.dtPedido < '2018-01-01'\n",
    "  AND t1.dtPedido >= add_months('2018-01-01', -6)\n",
    "  AND idVendedor IS NOT NULL\n",
    "\n",
    "),\n",
    "\n",
    "tb_join AS (\n",
    "\n",
    "  SELECT \n",
    "        t1.idVendedor,\n",
    "        t2.*         \n",
    "\n",
    "  FROM tb_pedidos AS t1\n",
    "\n",
    "  LEFT JOIN silver.olist.pagamento_pedido AS t2\n",
    "  ON t1.idPedido = t2.idPedido\n",
    "\n",
    "),\n",
    "\n",
    "tb_group AS (\n",
    "\n",
    "  SELECT idVendedor,\n",
    "         descTipoPagamento,\n",
    "         count(distinct idPedido) as qtdePedidoMeioPagamento,\n",
    "         sum(vlPagamento) as vlPedidoMeioPagamento\n",
    "\n",
    "  FROM tb_join\n",
    "\n",
    "  GROUP BY idVendedor, descTipoPagamento\n",
    "  ORDER BY idVendedor, descTipoPagamento\n",
    "\n",
    " ), tb_summary as (\n",
    "   \n",
    "SELECT \n",
    "  idVendedor,\n",
    "\n",
    "  sum(case when descTipoPagamento='boleto' then qtdePedidoMeioPagamento else 0 end) as qtde_boleto_pedido,\n",
    "  sum(case when descTipoPagamento='credit_card' then qtdePedidoMeioPagamento else 0 end) as qtde_credit_card_pedido,\n",
    "  sum(case when descTipoPagamento='voucher' then qtdePedidoMeioPagamento else 0 end) as qtde_voucher_pedido,\n",
    "  sum(case when descTipoPagamento='debit_card' then qtdePedidoMeioPagamento else 0 end) as qtde_debit_card_pedido,\n",
    "\n",
    "  sum(case when descTipoPagamento='boleto' then vlPedidoMeioPagamento else 0 end) as valor_boleto_pedido,\n",
    "  sum(case when descTipoPagamento='credit_card' then vlPedidoMeioPagamento else 0 end) as valor_credit_card_pedido,\n",
    "  sum(case when descTipoPagamento='voucher' then vlPedidoMeioPagamento else 0 end) as valor_voucher_pedido,\n",
    "  sum(case when descTipoPagamento='debit_card' then vlPedidoMeioPagamento else 0 end) as valor_debit_card_pedido,\n",
    "  \n",
    "  sum(case when descTipoPagamento='boleto' then qtdePedidoMeioPagamento else 0 end) / sum(qtdePedidoMeioPagamento) as pct_qtd_boleto_pedido,\n",
    "  sum(case when descTipoPagamento='credit_card' then qtdePedidoMeioPagamento else 0 end) / sum(qtdePedidoMeioPagamento) as pct_qtd_credit_card_pedido,\n",
    "  sum(case when descTipoPagamento='voucher' then qtdePedidoMeioPagamento else 0 end) / sum(qtdePedidoMeioPagamento) as pct_qtd_voucher_pedido,\n",
    "  sum(case when descTipoPagamento='debit_card' then qtdePedidoMeioPagamento else 0 end) / sum(qtdePedidoMeioPagamento) as pct_qtd_debit_card_pedido,\n",
    "\n",
    "  sum(case when descTipoPagamento='boleto' then vlPedidoMeioPagamento else 0 end) / sum(vlPedidoMeioPagamento) as pct_valor_boleto_pedido,\n",
    "  sum(case when descTipoPagamento='credit_card' then vlPedidoMeioPagamento else 0 end) / sum(vlPedidoMeioPagamento) as pct_valor_credit_card_pedido,\n",
    "  sum(case when descTipoPagamento='voucher' then vlPedidoMeioPagamento else 0 end) / sum(vlPedidoMeioPagamento) as pct_valor_voucher_pedido,\n",
    "  sum(case when descTipoPagamento='debit_card' then vlPedidoMeioPagamento else 0 end) / sum(vlPedidoMeioPagamento) as pct_valor_debit_card_pedido\n",
    "\n",
    "FROM tb_group\n",
    "\n",
    "GROUP BY idVendedor\n",
    " ), tb_cartao as (\n",
    "   select \n",
    "   idVendedor, \n",
    "   avg(nrParcelas) as avgParcelas,\n",
    "   PERCENTILE(nrParcelas, 0.5) as mediaQtParcelas,\n",
    "   max(nrParcelas) as maxQtdeParcelas,\n",
    "   min(nrParcelas) as minQtdeParcelas\n",
    " from tb_join\n",
    " where descTipoPagamento = 'credit_card'\n",
    " group by idVendedor\n",
    " )\n",
    " \n",
    " select \n",
    "  '2018-01-01' as dtReference,\n",
    "  t1.*,\n",
    "  t2.avgParcelas,\n",
    "  t2.mediaQtParcelas,\n",
    "  t2.maxQtdeParcelas,\n",
    "  t2.minQtdeParcelas\n",
    "from tb_summary as t1\n",
    " LEFT JOIN tb_cartao as t2\n",
    " ON t1.idVendedor = t2.idVendedor\n"
   ]
  },
  {
   "cell_type": "code",
   "execution_count": 0,
   "metadata": {
    "application/vnd.databricks.v1+cell": {
     "cellMetadata": {},
     "inputWidgets": {},
     "nuid": "0100aede-fb24-44a1-9525-afc912117512",
     "showTitle": false,
     "title": ""
    }
   },
   "outputs": [],
   "source": []
  }
 ],
 "metadata": {
  "application/vnd.databricks.v1+notebook": {
   "dashboards": [],
   "language": "sql",
   "notebookMetadata": {
    "pythonIndentUnit": 4
   },
   "notebookName": "pagamentos",
   "notebookOrigID": 1189639185656892,
   "widgets": {}
  }
 },
 "nbformat": 4,
 "nbformat_minor": 0
}
